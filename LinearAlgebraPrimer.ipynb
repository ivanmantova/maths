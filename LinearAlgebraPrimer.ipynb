{
 "cells": [
  {
   "cell_type": "markdown",
   "metadata": {},
   "source": [
    "# Linear Algebra Primer"
   ]
  },
  {
   "cell_type": "markdown",
   "metadata": {},
   "source": [
    "## Linear maps\n",
    "\n",
    "A function $f : V \\to W$ is a linear map if it preserves the operations of addition and scalar multiplication. That is, for all $v, w \\in V, c \\in F, f(v+w) = f(v) + f(w)$ and $f(cv) = cf(v)$."
   ]
  },
  {
   "cell_type": "markdown",
   "metadata": {},
   "source": [
    "## Theorems\n",
    "\n",
    "### Every linear map sends $0$ to $0$.\n",
    "\n",
    "#### Proof:\n",
    "\n",
    "Let $V, W$ be vector spaces and $f: V \\to W$ a linear map. For all $v \\in V$:\n",
    "\n",
    "$$f(0 + v) = f(v) = f(0) + f(v) = 0 + f(v)$$\n",
    "\n",
    "### Every linear map sends additive inverses to additive inverses.\n",
    "\n",
    "#### Proof:\n",
    "\n",
    "Let $V, W$ be vector spaces and $f: V \\to W$ a linear map. For all $v \\in V$:\n",
    "\n",
    "$$f(v + (-v)) = f(v) + f(-v) = f(0)$$"
   ]
  }
 ],
 "metadata": {
  "kernelspec": {
   "display_name": "Python 3",
   "language": "python",
   "name": "python3"
  },
  "language_info": {
   "codemirror_mode": {
    "name": "ipython",
    "version": 3
   },
   "file_extension": ".py",
   "mimetype": "text/x-python",
   "name": "python",
   "nbconvert_exporter": "python",
   "pygments_lexer": "ipython3",
   "version": "3.4.3"
  }
 },
 "nbformat": 4,
 "nbformat_minor": 0
}
