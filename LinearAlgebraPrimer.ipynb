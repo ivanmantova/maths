{
 "cells": [
  {
   "cell_type": "markdown",
   "metadata": {},
   "source": [
    "# Linear Algebra Primer"
   ]
  },
  {
   "cell_type": "markdown",
   "metadata": {},
   "source": [
    "## Linear maps\n",
    "\n",
    "A function $f : V \\to W$ is a linear map if it preserves the operations of addition and scalar multiplication. That is, for all $v, w \\in V, c \\in F, f(v+w) = f(v) + f(w)$ and $f(cv) = cf(v)$."
   ]
  },
  {
   "cell_type": "markdown",
   "metadata": {},
   "source": [
    "## Theorems\n",
    "\n",
    "### Every linear map sends $0$ to $0$.\n",
    "\n",
    "#### Proof:\n",
    "\n",
    "Let $V, W$ be vector spaces and $f: V \\to W$ a linear map. For all $v \\in V$:\n",
    "\n",
    "$$f(0 + v) = f(v) = f(0) + f(v) = 0 + f(v)$$\n",
    "\n",
    "### Every linear map sends additive inverses to additive inverses.\n",
    "\n",
    "#### Proof:\n",
    "\n",
    "Let $V, W$ be vector spaces and $f: V \\to W$ a linear map. For all $v \\in V$:\n",
    "\n",
    "$$f(v + (-v)) = f(v) + f(-v) = f(0)$$"
   ]
  },
  {
   "cell_type": "markdown",
   "metadata": {},
   "source": [
    "### Definition\n",
    "\n",
    "A *Linear Combination* of vectors is the vector of form\n",
    "\n",
    "$$\n",
    "a_1v_1 + a_2v_2 + a_3v_3 + \\dots + a_kv_k\n",
    "$$\n",
    "\n",
    "Every vector $v$ in the vector space $V$ is a linear combination of the basis vectors of $V$.\n",
    "\n",
    "Proof:\n",
    "\n",
    "Let $v$ be an arbitrary vector in $\\mathbb{R}^3$ and $e_1 = (1, 0, 0), e_2 = (0, 1, 0), e_3 = (0, 0, 1)$ the basis vectors of $\\mathbb{R}^3$. Then:\n",
    "\n",
    "$$\n",
    "(a_1,a_2,a_3) = (a_1, 0, 0) + (0, a_2, 0) + (0, 0, a_3) = a_1(1, 0, 0) + a_2(0, 1, 0) + a_3(0, 0, 1) = a_1e_1 + a_2e_2 + a_3e_3\n",
    "$$"
   ]
  }
 ],
 "metadata": {
  "kernelspec": {
   "display_name": "Python 3",
   "language": "python",
   "name": "python3"
  },
  "language_info": {
   "codemirror_mode": {
    "name": "ipython",
    "version": 3
   },
   "file_extension": ".py",
   "mimetype": "text/x-python",
   "name": "python",
   "nbconvert_exporter": "python",
   "pygments_lexer": "ipython3",
   "version": "3.4.3"
  }
 },
 "nbformat": 4,
 "nbformat_minor": 0
}
